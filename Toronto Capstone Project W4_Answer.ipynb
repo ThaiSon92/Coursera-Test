{
 "cells": [
  {
   "cell_type": "markdown",
   "metadata": {},
   "source": [
    "# This project is aimed at finding the best neighborhood for opening a coffee shop in Toronto"
   ]
  },
  {
   "cell_type": "markdown",
   "metadata": {},
   "source": [
    "### Problem\n",
    "Opening a coffee shop require a lot of money, efforts and time. That is why finding a good location is paramount to gaining profit and your coffee shops to grow. However, __business often hit or miss when it comes to choosing the right neighborhood to open their coffee shop.__\n",
    "\n",
    "This capstone project attempt to **find the right place to open a new Coffee Shop in Toronto.** By using Foursquare API locations data to __define neighborhood with the highest populations, but few existing coffee shop. So the user can open a new shop, with many customers and low competitions.__\n",
    "\n",
    "People who are interested in this will be business owners, coffee shop owners who ae seeking to opening up a new stores in Toronto.\n"
   ]
  },
  {
   "cell_type": "markdown",
   "metadata": {},
   "source": [
    "### Data\n",
    "To execute this report there are 2 important data that is need:\n",
    "<br> 1/ The population data that match each neighborhood. This data is gather through Toronto public data census.\n",
    "<br> 2/ The data and locations of existing coffee shops in Toronto, match to each neighborhood. This data will be taken from Foursquare API data base\n",
    "<br> **How we will use the data to execute:**\n",
    "We will use the neighborhood populations data first, then we will use it to draw the chologreph map of Toronto populations. Then we will get data of existing coffee shop in Toronto areas and create a cluster and display them on the chologreph map of Toronto populations. **The right neighborhood to build the new coffee shop is the one with the highest populations and the fewest number of existing coffee shop.**"
   ]
  },
  {
   "cell_type": "code",
   "execution_count": null,
   "metadata": {},
   "outputs": [],
   "source": []
  }
 ],
 "metadata": {
  "kernelspec": {
   "display_name": "Python 3",
   "language": "python",
   "name": "python3"
  },
  "language_info": {
   "codemirror_mode": {
    "name": "ipython",
    "version": 3
   },
   "file_extension": ".py",
   "mimetype": "text/x-python",
   "name": "python",
   "nbconvert_exporter": "python",
   "pygments_lexer": "ipython3",
   "version": "3.7.6"
  }
 },
 "nbformat": 4,
 "nbformat_minor": 4
}
